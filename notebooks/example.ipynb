{
 "cells": [
  {
   "cell_type": "code",
   "execution_count": 1,
   "metadata": {},
   "outputs": [],
   "source": [
    "from multiprocessing import Pool\n",
    "import wss_extract"
   ]
  },
  {
   "cell_type": "markdown",
   "metadata": {},
   "source": [
    "# Example\n",
    "\n",
    "In this notebook we will show how to use the sentiment analysis systems within the wss_extract package.\n",
    "\n",
    "The sentiment systems that currently work:\n",
    "1. SentiStrength\n",
    "2. Text Analysis Online\n",
    "3. Text Processing\n",
    "\n",
    "The sentiment system that does not work and might never work:\n",
    "1. Christopher Potts which contains:\n",
    "  * WordNet\n",
    "  * Opinion Lexicon\n",
    "  * IMDB\n",
    "  * Senti Word Net\n",
    "  * MPQA\n",
    "2. Repustate\n",
    "  \n",
    "## How to use the working systems\n",
    "\n",
    "We demostrate this by showing the systems working over a number of test sentences"
   ]
  },
  {
   "cell_type": "code",
   "execution_count": 2,
   "metadata": {},
   "outputs": [
    {
     "name": "stdout",
     "output_type": "stream",
     "text": [
      "['vending machine guy gave me free chips, what a nice guy', 'vending machine guy gave me free chips, what a nice guy!!!', 'vending machine guy gave me free chips, what a nice guy!!!!!!', 'VENDING MACHINE GUY GAVE ME FREE CHIPS, WHAT A NICE GUY', 'vending machine guy gave me free chips, what a NICE guy', 'vending machine guy gave me free chips, what a niiiiiiice guy', 'vending machine guy gave me free chips, what a nice guy :-)', 'vending machine guy gave me free chips, what a nice guy :-(']\n"
     ]
    }
   ],
   "source": [
    "test_sentences = '''vending machine guy gave me free chips, what a nice guy\n",
    "vending machine guy gave me free chips, what a nice guy!!!\n",
    "vending machine guy gave me free chips, what a nice guy!!!!!!\n",
    "VENDING MACHINE GUY GAVE ME FREE CHIPS, WHAT A NICE GUY\n",
    "vending machine guy gave me free chips, what a NICE guy\n",
    "vending machine guy gave me free chips, what a niiiiiiice guy\n",
    "vending machine guy gave me free chips, what a nice guy :-)\n",
    "vending machine guy gave me free chips, what a nice guy :-('''\n",
    "test_sentences = test_sentences.split('\\n')\n",
    "print(test_sentences)"
   ]
  },
  {
   "cell_type": "markdown",
   "metadata": {},
   "source": [
    "Below we define how each system gets the sentiment of a sentence"
   ]
  },
  {
   "cell_type": "code",
   "execution_count": 3,
   "metadata": {},
   "outputs": [],
   "source": [
    "def process_sentence(sentiment_system, sentence):\n",
    "    return sentiment_system().sentiment(sentence)"
   ]
  },
  {
   "cell_type": "markdown",
   "metadata": {},
   "source": [
    "Below we show how to run the systems in a multiprocessing fashion as they can take a long time to run due to the timeouts set. Here we do not remove the time outs, we just have a seperate process for each sentiment system."
   ]
  },
  {
   "cell_type": "code",
   "execution_count": 4,
   "metadata": {},
   "outputs": [],
   "source": [
    "working_systems = [wss_extract.SentiStrength, \n",
    "                   wss_extract.TextAnalysisOnline, wss_extract.TextProcessing]\n",
    "number_systems = len(working_systems)\n",
    "sentiment_output = []\n",
    "for test_sentence in test_sentences:\n",
    "    with Pool(3) as pool:\n",
    "        test_sentence = [test_sentence] * number_systems\n",
    "        multi_process_input = list(zip(working_systems, test_sentence))\n",
    "        sentiment_output.append(pool.starmap(process_sentence, multi_process_input))"
   ]
  },
  {
   "cell_type": "code",
   "execution_count": 5,
   "metadata": {},
   "outputs": [
    {
     "name": "stdout",
     "output_type": "stream",
     "text": [
      "[[1, 0.5, 'pos'], [1, 0.7, 'pos'], [1, 0.7, 'pos'], [1, 0.5, 'pos'], [1, 0.5, 'pos'], [1, 0.4, 'neg'], [1, 0.5, 'pos'], [1, 0.083333, 'pos']]\n"
     ]
    }
   ],
   "source": [
    "print(sentiment_output)"
   ]
  },
  {
   "cell_type": "markdown",
   "metadata": {},
   "source": [
    "As we can see above we have a list for each test sentence and within that list we have 3 different sentiment values. The first relates to `SentiStrength`, the second `TextAnalysisOnline`, the third `TextProcessing`.\n",
    "\n",
    "We can now merge these lists with their corresponding test sentences:"
   ]
  },
  {
   "cell_type": "code",
   "execution_count": 6,
   "metadata": {},
   "outputs": [
    {
     "name": "stdout",
     "output_type": "stream",
     "text": [
      "[('vending machine guy gave me free chips, what a nice guy', [1, 0.5, 'pos']), ('vending machine guy gave me free chips, what a nice guy!!!', [1, 0.7, 'pos']), ('vending machine guy gave me free chips, what a nice guy!!!!!!', [1, 0.7, 'pos']), ('VENDING MACHINE GUY GAVE ME FREE CHIPS, WHAT A NICE GUY', [1, 0.5, 'pos']), ('vending machine guy gave me free chips, what a NICE guy', [1, 0.5, 'pos']), ('vending machine guy gave me free chips, what a niiiiiiice guy', [1, 0.4, 'neg']), ('vending machine guy gave me free chips, what a nice guy :-)', [1, 0.5, 'pos']), ('vending machine guy gave me free chips, what a nice guy :-(', [1, 0.083333, 'pos'])]\n"
     ]
    }
   ],
   "source": [
    "print(list(zip(test_sentences, sentiment_output)))"
   ]
  },
  {
   "cell_type": "markdown",
   "metadata": {},
   "source": [
    "To show generally how a sentiment system works in a non multiprocessing fashion"
   ]
  },
  {
   "cell_type": "code",
   "execution_count": 8,
   "metadata": {},
   "outputs": [
    {
     "name": "stdout",
     "output_type": "stream",
     "text": [
      "1\n"
     ]
    }
   ],
   "source": [
    "senti_strength = wss_extract.SentiStrength()\n",
    "print(senti_strength.sentiment('vending machine guy gave me free chips, what a nice guy'))"
   ]
  },
  {
   "cell_type": "markdown",
   "metadata": {},
   "source": [
    "## What happens when you use a Non-working system\n",
    "\n",
    "Below shows the error you will get when a system does not work:"
   ]
  },
  {
   "cell_type": "code",
   "execution_count": 9,
   "metadata": {},
   "outputs": [],
   "source": [
    "wordnet_system = wss_extract.ChrisPotts('wordnet')"
   ]
  },
  {
   "cell_type": "code",
   "execution_count": 10,
   "metadata": {},
   "outputs": [
    {
     "name": "stderr",
     "output_type": "stream",
     "text": [
      "Reppy cache fetch error on http://sentiment.christopherpotts.net/robots.txt\n",
      "Traceback (most recent call last):\n",
      "  File \"/home/andrew/miniconda/envs/wss/lib/python3.7/site-packages/reppy/cache/__init__.py\", line 66, in factory\n",
      "    return self.fetch(url)\n",
      "  File \"/home/andrew/miniconda/envs/wss/lib/python3.7/site-packages/reppy/cache/__init__.py\", line 109, in fetch\n",
      "    url, ttl_policy=self.ttl_policy, *self.args, **self.kwargs)\n",
      "  File \"reppy/robots.pyx\", line 100, in reppy.robots.FetchMethod\n",
      "  File \"reppy/robots.pyx\", line 123, in reppy.robots.FetchMethod\n",
      "reppy.exceptions.BadStatusCode: ('Got 500 for http://sentiment.christopherpotts.net/robots.txt', 500)\n"
     ]
    },
    {
     "ename": "URLError",
     "evalue": "<urlopen error Bad web page. Status code 500>",
     "output_type": "error",
     "traceback": [
      "\u001b[0;31m---------------------------------------------------------------------------\u001b[0m",
      "\u001b[0;31mURLError\u001b[0m                                  Traceback (most recent call last)",
      "\u001b[0;32m/tmp/ipykernel_3031/3711885236.py\u001b[0m in \u001b[0;36m<module>\u001b[0;34m\u001b[0m\n\u001b[0;32m----> 1\u001b[0;31m \u001b[0mwordnet_system\u001b[0m\u001b[0;34m.\u001b[0m\u001b[0msentiment\u001b[0m\u001b[0;34m(\u001b[0m\u001b[0;34m'vending machine guy gave me free chips, what a nice guy'\u001b[0m\u001b[0;34m)\u001b[0m\u001b[0;34m\u001b[0m\u001b[0;34m\u001b[0m\u001b[0m\n\u001b[0m",
      "\u001b[0;32m~/miniconda/envs/wss/lib/python3.7/site-packages/wss_extract/chris_potts.py\u001b[0m in \u001b[0;36msentiment\u001b[0;34m(self, text, sentiment_mapper)\u001b[0m\n\u001b[1;32m     69\u001b[0m                      \u001b[0;34mf'140 chars contains {text_length}'\u001b[0m\u001b[0;34m\u001b[0m\u001b[0;34m\u001b[0m\u001b[0m\n\u001b[1;32m     70\u001b[0m         \u001b[0;32massert\u001b[0m \u001b[0mtext_length\u001b[0m \u001b[0;34m<\u001b[0m \u001b[0;36m140\u001b[0m\u001b[0;34m,\u001b[0m \u001b[0massert_msg\u001b[0m\u001b[0;34m\u001b[0m\u001b[0;34m\u001b[0m\u001b[0m\n\u001b[0;32m---> 71\u001b[0;31m         \u001b[0;32mreturn\u001b[0m \u001b[0msuper\u001b[0m\u001b[0;34m(\u001b[0m\u001b[0;34m)\u001b[0m\u001b[0;34m.\u001b[0m\u001b[0msentiment\u001b[0m\u001b[0;34m(\u001b[0m\u001b[0mtext\u001b[0m\u001b[0;34m,\u001b[0m \u001b[0msentiment_mapper\u001b[0m\u001b[0;34m)\u001b[0m\u001b[0;34m\u001b[0m\u001b[0;34m\u001b[0m\u001b[0m\n\u001b[0m\u001b[1;32m     72\u001b[0m \u001b[0;34m\u001b[0m\u001b[0m\n\u001b[1;32m     73\u001b[0m     \u001b[0;32mdef\u001b[0m \u001b[0m_process_sentiment_page\u001b[0m\u001b[0;34m(\u001b[0m\u001b[0mself\u001b[0m\u001b[0;34m,\u001b[0m \u001b[0mbrowser\u001b[0m\u001b[0;34m,\u001b[0m \u001b[0mtext\u001b[0m\u001b[0;34m)\u001b[0m \u001b[0;34m->\u001b[0m \u001b[0mfloat\u001b[0m\u001b[0;34m:\u001b[0m\u001b[0;34m\u001b[0m\u001b[0;34m\u001b[0m\u001b[0m\n",
      "\u001b[0;32m~/miniconda/envs/wss/lib/python3.7/site-packages/wss_extract/sentiment_api.py\u001b[0m in \u001b[0;36msentiment\u001b[0;34m(self, text, sentiment_mapper)\u001b[0m\n\u001b[1;32m     59\u001b[0m         \u001b[0mstatus_code\u001b[0m \u001b[0;34m=\u001b[0m \u001b[0mbrowser\u001b[0m\u001b[0;34m.\u001b[0m\u001b[0mresponse\u001b[0m\u001b[0;34m.\u001b[0m\u001b[0mstatus_code\u001b[0m\u001b[0;34m\u001b[0m\u001b[0;34m\u001b[0m\u001b[0m\n\u001b[1;32m     60\u001b[0m         \u001b[0;32mif\u001b[0m \u001b[0mstatus_code\u001b[0m \u001b[0;34m>=\u001b[0m \u001b[0;36m400\u001b[0m\u001b[0;34m:\u001b[0m\u001b[0;34m\u001b[0m\u001b[0;34m\u001b[0m\u001b[0m\n\u001b[0;32m---> 61\u001b[0;31m             \u001b[0;32mraise\u001b[0m \u001b[0mURLError\u001b[0m\u001b[0;34m(\u001b[0m\u001b[0;34mf'Bad web page. Status code {status_code}'\u001b[0m\u001b[0;34m)\u001b[0m\u001b[0;34m\u001b[0m\u001b[0;34m\u001b[0m\u001b[0m\n\u001b[0m\u001b[1;32m     62\u001b[0m \u001b[0;34m\u001b[0m\u001b[0m\n\u001b[1;32m     63\u001b[0m         \u001b[0mtime\u001b[0m\u001b[0;34m.\u001b[0m\u001b[0msleep\u001b[0m\u001b[0;34m(\u001b[0m\u001b[0mrandom\u001b[0m\u001b[0;34m.\u001b[0m\u001b[0mrandint\u001b[0m\u001b[0;34m(\u001b[0m\u001b[0;34m*\u001b[0m\u001b[0mself\u001b[0m\u001b[0;34m.\u001b[0m\u001b[0mtimeout\u001b[0m\u001b[0;34m)\u001b[0m\u001b[0;34m)\u001b[0m\u001b[0;34m\u001b[0m\u001b[0;34m\u001b[0m\u001b[0m\n",
      "\u001b[0;31mURLError\u001b[0m: <urlopen error Bad web page. Status code 500>"
     ]
    }
   ],
   "source": [
    "wordnet_system.sentiment('vending machine guy gave me free chips, what a nice guy')"
   ]
  },
  {
   "cell_type": "code",
   "execution_count": null,
   "metadata": {},
   "outputs": [],
   "source": []
  }
 ],
 "metadata": {
  "kernelspec": {
   "display_name": "Python 3",
   "language": "python",
   "name": "python3"
  },
  "language_info": {
   "codemirror_mode": {
    "name": "ipython",
    "version": 3
   },
   "file_extension": ".py",
   "mimetype": "text/x-python",
   "name": "python",
   "nbconvert_exporter": "python",
   "pygments_lexer": "ipython3",
   "version": "3.7.13"
  }
 },
 "nbformat": 4,
 "nbformat_minor": 2
}
